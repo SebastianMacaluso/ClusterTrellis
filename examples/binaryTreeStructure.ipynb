{
 "cells": [
  {
   "cell_type": "code",
   "execution_count": 1,
   "metadata": {},
   "outputs": [],
   "source": [
    "import sys\n",
    "sys.path.append(\"..\")\n",
    "from IPython.display import display"
   ]
  },
  {
   "cell_type": "code",
   "execution_count": 2,
   "metadata": {},
   "outputs": [],
   "source": [
    "import numpy as np\n",
    "import logging\n",
    "import pickle\n",
    "%matplotlib inline"
   ]
  },
  {
   "cell_type": "code",
   "execution_count": 3,
   "metadata": {},
   "outputs": [],
   "source": [
    "# from scripts import linkageList"
   ]
  },
  {
   "cell_type": "markdown",
   "metadata": {},
   "source": [
    "# BINARY TREE FEATURES"
   ]
  },
  {
   "cell_type": "markdown",
   "metadata": {},
   "source": [
    "In this notebook we detail the structure of the jet dictionaries created with the Toy Generative Model for jets that can be accessed below:"
   ]
  },
  {
   "cell_type": "markdown",
   "metadata": {},
   "source": [
    "[Toy Generative Model for jets](https://github.com/SebastianMacaluso/ToyJetsShower)"
   ]
  },
  {
   "cell_type": "code",
   "execution_count": 4,
   "metadata": {},
   "outputs": [],
   "source": [
    "#Data dir\n",
    "input_dir= 'data/truth'\n",
    "# input_dir =\"../ToyJetsShower/data/\""
   ]
  },
  {
   "cell_type": "code",
   "execution_count": 5,
   "metadata": {},
   "outputs": [],
   "source": [
    "start =1\n",
    "end  =2\n",
    "Njets = 100\n",
    "root_dir = \"data/truth/\"\n",
    "filename = \"tree_\" + str(Njets) + \"_truth_\"\n",
    "\n",
    "\n",
    "for i in range(start, end):\n",
    "\n",
    "    with open(root_dir+filename+ str(i) + \".pkl\", \"rb\") as fd:\n",
    "        jetsList = pickle.load(fd, encoding='latin-1')\n",
    "\n"
   ]
  },
  {
   "cell_type": "code",
   "execution_count": 6,
   "metadata": {},
   "outputs": [],
   "source": [
    "# Choose 1 jet from the list\n",
    "jet = jetsList[0]\n",
    "\n",
    "jet[\"algorithm\"]=\"truth\"\n"
   ]
  },
  {
   "cell_type": "markdown",
   "metadata": {},
   "source": [
    "## JET DICTIONARY STRUCTURE"
   ]
  },
  {
   "cell_type": "markdown",
   "metadata": {},
   "source": [
    "BASIC FEATURES\n",
    "\n",
    "- jet[\"root_id\"]: root node id of the tree\n",
    "\n",
    "- jet[\"content\"]: list with the tree nodes (particles) momentum vectors. For the ToyJetsShower we consider a 2D model, so we have (py,pz), with pz the direction of the beam axis\n",
    "\n",
    "- jet[\"tree\"]: list with the tree structure. Each entry contains a list with the [left,right] children of a node. If [-1,-1] then the node is a leaf. \n",
    "    for node_id=ii\n",
    "    jet[\"content\"][ii]=[py,pz] for node ii\n",
    "    jet[\"tree\"][ii]=[left,right] children of ii\n",
    "    jet[\"content\"][jet[\"tree\"][ii]][0]]=[py,pz] for left child of node ii\n",
    "    jet[\"content\"][jet[\"tree\"][ii]][1]]=[py,pz] for right child of node ii\n",
    "\n",
    "- jet[\"outers_node_id\"]: node id for all the leaves of the tree, in the order that they are accessed when traversing the tree.\n",
    "\n",
    "- jet[\"outers_list\"]: momentum vectors for all the leaves of the tree, in the order that they are accessed when traversing the tree.\n",
    "\n",
    "- jet[\"Nconst\"]: Number of leaves of the tree.\n",
    "\n",
    "- jet[\"name\"]: Number that identifies each jet.\n",
    "\n",
    "- jet[\"node_id\"]: List where leaves idxs are added in the order they appear when we traverse the reclustered tree (each number indicates the node id that we picked when we did the reclustering.). However, the idx value specifies the order in which the leaf nodes appear when traversing the origianl jet (e.g. truth level) jet . The value here is an integer between 0 and Nleaves. This is not available for the truth jet, but in that case, we have jet[\"node_id\"]=np.arange(jet[\"Nconst\"])\n"
   ]
  },
  {
   "cell_type": "markdown",
   "metadata": {},
   "source": [
    "PARAMETERS TO RUN THE TOY GENERATIVE MODEL FOR JETS\n",
    "\n",
    "- jet[\"Lambda\"]: Decaying rate for the exponential distribution.\n",
    "\n",
    "- jet[\"Delta_0\"]: Initial splitting scale.\n",
    "\n",
    "- jet[\"pt_cut\"]: Cut-off scale to stop the showering process.\n",
    "\n",
    "- jet[\"M_Hard\"]: Initial splitting scale for a jet comming from a heavy resonance X. Currently is M_hard/2."
   ]
  },
  {
   "cell_type": "markdown",
   "metadata": {},
   "source": [
    "BINARY TREE STRUCTURE FEATURES\n",
    "\n",
    "- jet[\"algorithm\"]: Algorithm to generate the tree structure, e.g. truth, kt, antikt, CA.\n",
    "\n",
    "- jet[\"deltas\"]: Splitting scale for each parent node according to the Toy Generative Model for Jets.\n",
    "\n",
    "- jet[\"draws\"]: r values drawn from an exponential distribution of the form f(r) = lambda*Exp[-lambda r] while running the generative model. More details in [Toy Generative Model for jets](https://github.com/SebastianMacaluso/ToyJetsShower).\n",
    "\n",
    "- jet[\"tree_ancestors\"]: List with one entry for each leaf of the tree, where each entry lists all the ancestor node ids when traversing the tree from the root to the leaf node.\n",
    "\n",
    "- jet[\"linkage_list\"]: linkage list to build heat clustermap visualizations. The format and link are described below: \n",
    "\n",
    "    [SciPy linkage list website](https://docs.scipy.org/doc/scipy/reference/generated/scipy.cluster.hierarchy.linkage.html) \n",
    "    \n",
    "    Linkage list format: A  (n - 1) by 4 matrix Z is returned. At the i-th iteration, clusters with indices Z[i, 0] and Z[i, 1] are combined to form cluster (n + 1) . A cluster with an index less than n  corresponds to one of the n original observations. The distance between clusters Z[i, 0] and Z[i, 1] is given by Z[i, 2]. The fourth value Z[i, 3] represents the number of original observations in the newly formed cluster."
   ]
  },
  {
   "cell_type": "markdown",
   "metadata": {},
   "source": [
    "### Jet dictionary usage examples"
   ]
  },
  {
   "cell_type": "code",
   "execution_count": 7,
   "metadata": {},
   "outputs": [
    {
     "name": "stdout",
     "output_type": "stream",
     "text": [
      "Node #1 children = [ 2 41]\n",
      "Node #1 momentum =  [276.11334 169.69995]\n",
      "Node #1 momentum from adding its children momentum =  [276.11334 169.69995]\n"
     ]
    }
   ],
   "source": [
    "# Get parent momentum from adding its children momentum\n",
    "ii=1\n",
    "print(\"Node #\"+str(ii)+\" children =\",jet[\"tree\"][ii])\n",
    "print(\"Node #\"+str(ii)+\" momentum = \",jet[\"content\"][ii])\n",
    "print(\"Node #\"+str(ii)+\" momentum from adding its children momentum = \", np.sum(jet[\"content\"][jet[\"tree\"][ii]],axis=0))"
   ]
  },
  {
   "cell_type": "code",
   "execution_count": 8,
   "metadata": {},
   "outputs": [],
   "source": [
    "# Simple validation test  of the jet structure. We compare the parent splitting scale Delta as calculated from\n",
    "# the children momentum (Delta_P) vs reading it from the jet structure (truth_Delta_P)\n",
    "\n",
    "node_id=0\n",
    "tree=jet['tree']\n",
    "content=jet['content']\n",
    "deltas=jet['deltas']\n",
    "truth_Delta_P=deltas[node_id]\n",
    "Delta_L=deltas[tree[node_id][0]]\n",
    "Delta_R=deltas[tree[node_id][1]]\n",
    "p_L=content[tree[node_id][0]]\n",
    "p_R=content[tree[node_id][1]]\n",
    "\n",
    "#Get DeltaP from jet dictionary\n",
    "truth_Delta_P=deltas[node_id]\n",
    "\n",
    "# Calculate DeltaP\n",
    "Delta_P=np.sqrt(1/4*np.sum((p_R-p_L)**2))\n",
    "\n",
    "draws=jet['draws']\n",
    "r_L=draws[tree[node_id][0]]\n",
    "r_R=draws[tree[node_id][1]]"
   ]
  },
  {
   "cell_type": "code",
   "execution_count": 9,
   "metadata": {},
   "outputs": [
    {
     "name": "stdout",
     "output_type": "stream",
     "text": [
      "Left child Delta =  28.73630142211914\n",
      "Right child Delta =  10.709257125854492\n",
      "Left child r value  drawn =  0.7184075\n",
      "Right child r value  drawn =  0.26773143\n",
      "Left child momentum =  [276.11334 169.69995]\n",
      "Left child momentum =  [223.88666 230.30005]\n",
      "Splitting scale Delta read from jet dictionary = 40.0\n",
      "Splitting scale Delta as obtained from children momentum = 39.99999389648391\n"
     ]
    }
   ],
   "source": [
    "print(\"Left child Delta = \", Delta_L)\n",
    "print(\"Right child Delta = \", Delta_R)\n",
    "print(\"Left child r value  drawn = \", r_L)\n",
    "print(\"Right child r value  drawn = \",r_R)\n",
    "print(\"Left child momentum = \",p_L)\n",
    "print(\"Left child momentum = \",p_R)\n",
    "print(\"Splitting scale Delta read from jet dictionary =\", truth_Delta_P)\n",
    "print(\"Splitting scale Delta as obtained from children momentum =\" , Delta_P)"
   ]
  },
  {
   "cell_type": "code",
   "execution_count": null,
   "metadata": {},
   "outputs": [],
   "source": []
  },
  {
   "cell_type": "code",
   "execution_count": null,
   "metadata": {},
   "outputs": [],
   "source": []
  },
  {
   "cell_type": "code",
   "execution_count": null,
   "metadata": {},
   "outputs": [],
   "source": []
  },
  {
   "cell_type": "code",
   "execution_count": null,
   "metadata": {},
   "outputs": [],
   "source": []
  },
  {
   "cell_type": "code",
   "execution_count": null,
   "metadata": {},
   "outputs": [],
   "source": []
  },
  {
   "cell_type": "code",
   "execution_count": null,
   "metadata": {},
   "outputs": [],
   "source": []
  },
  {
   "cell_type": "code",
   "execution_count": null,
   "metadata": {},
   "outputs": [],
   "source": []
  },
  {
   "cell_type": "code",
   "execution_count": null,
   "metadata": {},
   "outputs": [],
   "source": []
  },
  {
   "cell_type": "code",
   "execution_count": null,
   "metadata": {},
   "outputs": [],
   "source": []
  }
 ],
 "metadata": {
  "kernelspec": {
   "display_name": "Python 3",
   "language": "python",
   "name": "python3"
  },
  "language_info": {
   "codemirror_mode": {
    "name": "ipython",
    "version": 3
   },
   "file_extension": ".py",
   "mimetype": "text/x-python",
   "name": "python",
   "nbconvert_exporter": "python",
   "pygments_lexer": "ipython3",
   "version": "3.7.3"
  }
 },
 "nbformat": 4,
 "nbformat_minor": 1
}
