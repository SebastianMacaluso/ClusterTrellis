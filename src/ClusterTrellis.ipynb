{
 "cells": [
  {
   "cell_type": "code",
   "execution_count": 1,
   "metadata": {},
   "outputs": [],
   "source": [
    "%load_ext autoreload\n",
    "%autoreload 2"
   ]
  },
  {
   "cell_type": "code",
   "execution_count": 2,
   "metadata": {},
   "outputs": [],
   "source": [
    "import os\n",
    "import pickle\n",
    "import string\n",
    "import time\n",
    "import logging\n",
    "import numpy as np\n",
    "import importlib"
   ]
  },
  {
   "cell_type": "code",
   "execution_count": 3,
   "metadata": {},
   "outputs": [],
   "source": [
    "import run_experiments as rpe\n",
    "import HierarchicalTrellis\n",
    "from trellis_node import TrellisNode"
   ]
  },
  {
   "cell_type": "code",
   "execution_count": 4,
   "metadata": {},
   "outputs": [],
   "source": [
    "%matplotlib inline\n",
    "import matplotlib.pyplot as plt\n",
    "plt.rcParams[\"figure.figsize\"] = (8, 8)\n",
    "\n",
    "import matplotlib as mpl\n",
    "from matplotlib import rcParams\n",
    "from matplotlib.colors import Normalize\n",
    "import matplotlib.cm as cm\n",
    "from matplotlib.colors import LogNorm\n",
    "from matplotlib import ticker\n",
    "from matplotlib import colors\n",
    "from matplotlib.patches import Ellipse\n",
    "from matplotlib import gridspec\n",
    "\n",
    "import matplotlib\n",
    "matplotlib.rc('font',**{'family':'serif','serif':['Times']})\n",
    "matplotlib.rc('text', usetex=True) \n",
    "matplotlib.rcParams.update({'font.size': 10})"
   ]
  },
  {
   "cell_type": "code",
   "execution_count": 5,
   "metadata": {},
   "outputs": [],
   "source": [
    "from utils import get_logger\n",
    "logger = get_logger(level=logging.WARNING)"
   ]
  },
  {
   "cell_type": "markdown",
   "metadata": {},
   "source": [
    "# General remarks"
   ]
  },
  {
   "cell_type": "markdown",
   "metadata": {},
   "source": [
    "The Hierarchical Cluster Trellis data structure and algorithms to calculate the partition function and MAP hierarchies are introduced in https://arxiv.org/abs/2002.11661\n",
    "\n",
    "To run the Cluster Trellis on a new model, replace the get_energy_of_split and compute_map_features methods in the ModelNode class below. The energy function for a pairwise splitting should be writen in terms of the map_features and model_params.\n",
    "\n",
    "- map_features : list, where each entry is a list with the model features/values for each vertex of a dataset. In particular, we initialize the algorithm with the leaves_features list. E.g. for Ginkgo this is [momentum, invariant mass] for each leaf.\n",
    "\n",
    "- model_params : dictionary with the model parameters.\n",
    "\n"
   ]
  },
  {
   "cell_type": "markdown",
   "metadata": {},
   "source": [
    "# Probabilistic Model : Ginkgo"
   ]
  },
  {
   "cell_type": "code",
   "execution_count": 6,
   "metadata": {},
   "outputs": [],
   "source": [
    "\"\"\"Replace with model auxiliary scripts to calculate the energy function\"\"\"\n",
    "import Ginkgo_likelihood as likelihood"
   ]
  },
  {
   "cell_type": "code",
   "execution_count": 7,
   "metadata": {},
   "outputs": [],
   "source": [
    "class ModelNode(TrellisNode):\n",
    "    \"\"\"Class to define the node pairwise splitting energy and calculate node features for a given model \"\"\"\n",
    "\n",
    "    def __init__(self,\n",
    "                 model_params,\n",
    "                 elements = None,\n",
    "                 children = None,\n",
    "                 map_features = None):\n",
    "        TrellisNode.__init__(self, model_params, elements, children, map_features)\n",
    "\n",
    "\n",
    "    def get_energy_of_split(self, a_node, b_node):\n",
    "        \"\"\"Model energy function.\n",
    "        Args: sibling nodes\n",
    "        returns: model pairwise splitting energy\n",
    "        \"\"\"\n",
    "\n",
    "        logger.debug(f\"computing energy of split: {a_node, b_node}\")\n",
    "\n",
    "        split_llh = likelihood.split_logLH(a_node.map_features[0],\n",
    "                                           a_node.map_features[1],\n",
    "                                           b_node.map_features[0],\n",
    "                                           b_node.map_features[1],\n",
    "                                           self.model_params[\"delta_min\"],\n",
    "                                           self.model_params[\"lam\"])\n",
    "        logger.debug(f\"split_llh = {split_llh}\")\n",
    "\n",
    "        return split_llh\n",
    "\n",
    "\n",
    "    def compute_map_features(self, a_node, b_node):\n",
    "        \"\"\"Auxiliary method to get the parent vertex features. This is model dependent. In Ginkgo these are the momentum and parent         invariant mass.\n",
    "        Args: sibling nodes\n",
    "        returns: list where each entry is a parent feature, e.g. [feature1,feature2,...]\n",
    "        \"\"\"\n",
    "        momentum = a_node.map_features[0] + b_node.map_features[0]\n",
    "        logger.debug(f\"computing momentum for {a_node, b_node, momentum}\")\n",
    "\n",
    "        \n",
    "        logger.debug(f\"computing  parent invariant mass {a_node, a_node.map_features[0], b_node, b_node.map_features[0]}\")\n",
    "        pP = a_node.map_features[0] + b_node.map_features[0]\n",
    "\n",
    "        \"\"\"Parent invariant mass squared\"\"\"\n",
    "        tp1 = pP[0] ** 2 - np.linalg.norm(pP[1::]) ** 2\n",
    "        logger.debug(f\"tp =  {tp1}\")\n",
    "\n",
    "        return [momentum,tp1]"
   ]
  },
  {
   "cell_type": "code",
   "execution_count": null,
   "metadata": {},
   "outputs": [],
   "source": []
  },
  {
   "cell_type": "markdown",
   "metadata": {},
   "source": [
    "## Load Datsets"
   ]
  },
  {
   "cell_type": "code",
   "execution_count": 8,
   "metadata": {},
   "outputs": [],
   "source": [
    "label = \"Trellis\"; plotDir = \"plots/\""
   ]
  },
  {
   "cell_type": "code",
   "execution_count": 9,
   "metadata": {},
   "outputs": [],
   "source": [
    "def load_jets(filename):\n",
    "    \"\"\"Load truth binary trees\"\"\"\n",
    "    root_dir = \"../data/\"\n",
    "    filename = os.path.join(root_dir, filename)\n",
    "    with open(filename + \".pkl\", \"rb\") as fd:\n",
    "        Truth= pickle.load(fd, encoding='latin-1')\n",
    "    return Truth"
   ]
  },
  {
   "cell_type": "code",
   "execution_count": 10,
   "metadata": {},
   "outputs": [],
   "source": [
    "gt_trees = load_jets(\"truth_9\")"
   ]
  },
  {
   "cell_type": "code",
   "execution_count": 11,
   "metadata": {},
   "outputs": [
    {
     "data": {
      "text/plain": [
       "10"
      ]
     },
     "execution_count": 11,
     "metadata": {},
     "output_type": "execute_result"
    }
   ],
   "source": [
    "len(gt_trees)"
   ]
  },
  {
   "cell_type": "markdown",
   "metadata": {},
   "source": [
    "# Run Exact trellis on truth trees step by step"
   ]
  },
  {
   "cell_type": "markdown",
   "metadata": {},
   "source": [
    "Replace leaves_features and model_params with current model values"
   ]
  },
  {
   "cell_type": "code",
   "execution_count": 12,
   "metadata": {},
   "outputs": [],
   "source": [
    "\"\"\"Find MAP hierarchy and partition function \"\"\"\n",
    "times=[]\n",
    "MAP = []\n",
    "for i in range(2):\n",
    "    \n",
    "    \"\"\"Dataset\"\"\"\n",
    "    data_params = gt_trees[i]\n",
    "    \n",
    "    \"\"\"Number of elements\"\"\"\n",
    "    N=len(data_params['leaves'])\n",
    "\n",
    "    \"\"\"Replace with leaves features for current model\"\"\"\n",
    "    leaves_features =[ [data_params['leaves'][i],0] for i in range(N)]\n",
    "    \n",
    "    \"\"\"Replace with current model parameters\n",
    "    \"\"\"\n",
    "    model_params ={}\n",
    "    model_params[\"delta_min\"] = float(data_params['pt_cut'])\n",
    "    model_params[\"lam\"]= float(data_params['Lambda'])\n",
    "    \n",
    "    startTime = time.time()\n",
    "    \n",
    "    \"\"\" Create trellis\"\"\"\n",
    "    a_trellis = HierarchicalTrellis.HierarchicalTrellis()\n",
    "    a_trellis.create_from_leaves(leaves_features, \n",
    "                                                  model_params, \n",
    "                                                  NodeClass = ModelNode)\n",
    "    \n",
    "    \"\"\"Compute MAP (MLE), partition function Z\"\"\"\n",
    "    map_energy, Z , Ntrees= np.float64(a_trellis.compute_map_tree())\n",
    "    endTime = time.time() - startTime\n",
    "    \n",
    "    times.append(endTime)\n",
    "    MAP.append(map_energy)"
   ]
  },
  {
   "cell_type": "code",
   "execution_count": 13,
   "metadata": {},
   "outputs": [
    {
     "name": "stdout",
     "output_type": "stream",
     "text": [
      "Maximum likelihood hierarchy =  [-54.32581855184802, -53.45407081511547]\n",
      "times =  [1.5811200141906738, 1.4985051155090332]\n"
     ]
    }
   ],
   "source": [
    "print(\"Maximum likelihood hierarchy = \",  MAP)\n",
    "print(\"times = \",times)"
   ]
  },
  {
   "cell_type": "markdown",
   "metadata": {},
   "source": [
    "# Run Trellis and fill results with MAP and Partition Function Z "
   ]
  },
  {
   "cell_type": "code",
   "execution_count": 14,
   "metadata": {},
   "outputs": [],
   "source": [
    "def runTrellisOnly(gt_trees, \n",
    "               NleavesMin =3, \n",
    "               NleavesMax= 4, \n",
    "               MaxNjets = 1\n",
    "              ):\n",
    "    \n",
    "    \"\"\"Create and fill the trellis for a given set of leaves\n",
    "    Args: \n",
    "    gt_trees : truth level  trees.\n",
    "    NleavesMin: minimum number of leaves to select jet trees\n",
    "    NleavesMax: maximum number of leaves to select jet trees\n",
    "    MaxNjets: maximum number of jet to run the trellis code.\n",
    "    \n",
    "    Returns:\n",
    "    results: dictionary with the following {key:values}\n",
    "                Z: partition functions,\n",
    "                trellis_MLE: MAP hierarchy, \n",
    "                RunTime: time for each tree\n",
    "                totJets\": total number of trees\n",
    "                gt_llh: truth level trees llh\n",
    " \n",
    "    \"\"\"\n",
    "    \n",
    "    \"\"\" Keep only trees with leaves between NleavesMin and NleavesMax\"\"\"\n",
    "    smallJetIndex =[i for i,gt_tree in enumerate(gt_trees)  if NleavesMin<=len(gt_tree[\"leaves\"])<NleavesMax]\n",
    "            \n",
    "    \n",
    "    results = {\"Z\":[], \"trellis_MLE\":[], \"RunTime\":[], \"Ntrees\":[]}\n",
    "    \n",
    "    if len(smallJetIndex)>0:\n",
    "        \n",
    "        GT_trees = np.asarray(gt_trees)[smallJetIndex]\n",
    "        \n",
    "        \"\"\" Total number of trees to run the trellis\"\"\"\n",
    "        totTrees = np.min([MaxNjets,len(smallJetIndex)])\n",
    "\n",
    "        results[\"totTrees\"] = totTrees\n",
    "        results[\"Nleaves\"] = [len(GT_trees[m][\"leaves\"]) for m in range(totTrees)]\n",
    "        results[\"gt_llh\"]= [np.sum(GT_trees[m][\"logLH\"]) for m in range(totTrees)]\n",
    "\n",
    "        for m in range(totTrees):\n",
    "\n",
    "            if m%50==0:\n",
    "                print(\"Creating trellis for jet #\",m)\n",
    "                \n",
    "            startTime = time.time()\n",
    "\n",
    "            \"\"\" Create and fill the trellis\"\"\"\n",
    "            trellis, Z, map_energy, Ntrees,  totTime = rpe.compare_map_gt_and_bs_trees(GT_trees[m], ModelNode)\n",
    "\n",
    "            results[\"Z\"].append(Z)\n",
    "            results[\"trellis_MLE\"].append(map_energy)\n",
    "            results[\"Ntrees\"].append(Ntrees)\n",
    "\n",
    "            endTime = time.time() - startTime\n",
    "            results[\"RunTime\"].append(endTime)\n",
    "\n",
    "    else:\n",
    "        print(\"There are no jets in the dataset with the required number of leaves \")\n",
    "\n",
    "    return results, trellis"
   ]
  },
  {
   "cell_type": "code",
   "execution_count": 15,
   "metadata": {},
   "outputs": [
    {
     "name": "stdout",
     "output_type": "stream",
     "text": [
      "Creating trellis for jet # 0\n",
      "Total time =  15.032153844833374\n"
     ]
    }
   ],
   "source": [
    "NleavesMin =9\n",
    "NleavesMax=10\n",
    "MaxNjets = 10\n",
    "\n",
    "start = time.time()\n",
    "results10, trellis10 =  runTrellisOnly(gt_trees, \n",
    "               NleavesMin =NleavesMin, \n",
    "               NleavesMax= NleavesMax, \n",
    "               MaxNjets = MaxNjets)\n",
    "\n",
    "print(\"Total time = \", time.time() - start)"
   ]
  },
  {
   "cell_type": "code",
   "execution_count": 16,
   "metadata": {},
   "outputs": [
    {
     "data": {
      "text/plain": [
       "([-45.193592069411736,\n",
       "  -45.59814745932447,\n",
       "  -45.63583169742163,\n",
       "  -44.54803920822535],\n",
       " [-54.32581855184802,\n",
       "  -53.45407081511547,\n",
       "  -52.022417169944006,\n",
       "  -52.70717013256726])"
      ]
     },
     "execution_count": 16,
     "metadata": {},
     "output_type": "execute_result"
    }
   ],
   "source": [
    "results10[\"Z\"][0:4], results10[\"trellis_MLE\"][0:4]"
   ]
  },
  {
   "cell_type": "code",
   "execution_count": 17,
   "metadata": {},
   "outputs": [],
   "source": [
    "save=True\n",
    "outdir = \"experiments/\"\n",
    "if save:\n",
    "    out_filename = os.path.join(outdir, \"TrellisExactTruth_\"+str(NleavesMin)+\"_\"+str(len(gt_trees))+\"_jets.pkl\")\n",
    "    with open(out_filename, \"wb\") as f:\n",
    "        pickle.dump(results10, f, protocol=2)"
   ]
  },
  {
   "cell_type": "code",
   "execution_count": 18,
   "metadata": {},
   "outputs": [],
   "source": [
    "NleavesMin =9\n",
    "NleavesMax=10\n",
    "\n",
    "load=True\n",
    "outdir = \"experiments/\"\n",
    "if load:\n",
    "    in_filename = os.path.join(outdir, \"TrellisExactTruth_\"+str(NleavesMin)+\"_\"+str(len(gt_trees))+\"_jets.pkl\")\n",
    "    with open(in_filename, \"rb\") as fd:\n",
    "        results = pickle.load(fd, encoding='latin-1')"
   ]
  },
  {
   "cell_type": "markdown",
   "metadata": {},
   "source": [
    "### Likelihood plots"
   ]
  },
  {
   "cell_type": "code",
   "execution_count": 19,
   "metadata": {},
   "outputs": [
    {
     "data": {
      "image/png": "[encoded data removed]",
      "text/plain": [
       "<Figure size 432x360 with 2 Axes>"
      ]
     },
     "metadata": {
      "needs_background": "light"
     },
     "output_type": "display_data"
    }
   ],
   "source": [
    "fig2, (axes) = plt.subplots(nrows=1, ncols=1)\n",
    "fig2.set_size_inches(6,5)\n",
    "plt.tight_layout(pad=0.4, w_pad=5, h_pad=1.0)\n",
    "markersize = 50\n",
    "\n",
    "for i in range(1):\n",
    "    \n",
    "     \n",
    "    x = np.linspace(min(results[\"gt_llh\"]), max(results[\"trellis_MLE\"]), 1000)\n",
    "    cl1 = axes.scatter(np.asarray(results[\"gt_llh\"]), np.asarray(results[\"trellis_MLE\"]), c=np.asarray(results[\"Nleaves\"]) ,  marker=\"X\", s=markersize, label=\"Trellis MAP\")\n",
    "    \n",
    "    cb = fig2.colorbar(cl1, ax=axes, fraction=0.15, shrink=1.0, aspect=20)\n",
    "    cb.set_label(label=\"Number of leaves\", size=25)\n",
    "    cb.ax.tick_params(labelsize=15)\n",
    "    \n",
    "\n",
    "    axes.tick_params(labelsize=25) \n",
    "    axes.plot(x, x, color=\"black\", linestyle='--')\n",
    "    axes.grid(which='both', axis='both', linestyle='--')\n",
    "    axes.legend(loc='lower left', fontsize=25)\n",
    "    \n",
    "    axes.set_xlabel(r\"$ \\ell $ = log p(x,$H_{Truth}$)\", fontsize=30)\n",
    "    axes.set_ylabel(r\" $ \\ell $ = log p(x,$H^*$)\", fontsize=30)\n",
    "\n",
    "saveFig=False    \n",
    "if saveFig:\n",
    "    fig2.savefig(plotDir+\"llhScatter.pdf\", bbox_inches='tight')\n",
    "    \n",
    "plt.show()"
   ]
  },
  {
   "cell_type": "markdown",
   "metadata": {},
   "source": [
    "# Posterior distribution from sampling"
   ]
  },
  {
   "cell_type": "markdown",
   "metadata": {},
   "source": [
    "Calculate  samples from the exact true posterior without enumerating all possible hierarchies."
   ]
  },
  {
   "cell_type": "code",
   "execution_count": 20,
   "metadata": {},
   "outputs": [],
   "source": [
    "def posteriorDist( gt_trees, \n",
    "                  Nsamples = 1,\n",
    "                  NleavesMin =9,\n",
    "                  NleavesMax=10, \n",
    "                  MaxNjets = 1):\n",
    "    \"\"\"Sample trees to build the posterior distribution\"\"\"\n",
    "\n",
    "    \"\"\"Create and fill trellis\"\"\"\n",
    "    results, trellis =  runTrellisOnly(gt_trees, \n",
    "               NleavesMin =NleavesMin, \n",
    "               NleavesMax= NleavesMax, \n",
    "               MaxNjets = MaxNjets)\n",
    "    \n",
    "    \n",
    "    \"\"\"Sampling\"\"\"\n",
    "    treedist = np.asarray(trellis.sample_trees(trellis.root, Nsamples))\n",
    "    \n",
    "    treedistLH = np.exp(treedist)\n",
    "    \n",
    "    return results, treedist, treedistLH"
   ]
  },
  {
   "cell_type": "code",
   "execution_count": 21,
   "metadata": {},
   "outputs": [],
   "source": [
    "def savePosterior(treedist,resultsPost, Nsamples = 1, NleavesMin=1):\n",
    "    outdir = \"experiments/\"\n",
    "    out_filename = os.path.join(outdir, \"Posterior\"+label+\"_Samples_\"+str(Nsamples)+\"_\"+str(NleavesMin)+\".pkl\")\n",
    "    \n",
    "    with open(out_filename, \"wb\") as f:\n",
    "        pickle.dump((treedist,resultsPost), f, protocol=2)"
   ]
  },
  {
   "cell_type": "code",
   "execution_count": 22,
   "metadata": {},
   "outputs": [],
   "source": [
    "def loadPosterior(Nsamples = None,NleavesMin=None):\n",
    "\n",
    "    outdir = \"experiments/\"\n",
    "\n",
    "    in_filename = os.path.join(outdir, \"Posterior\"+label+\"_Samples_\"+str(Nsamples)+\"_\"+str(NleavesMin)+\".pkl\")\n",
    "    with open(in_filename, \"rb\") as fd:\n",
    "        treedist,resultsPost = pickle.load(fd, encoding='latin-1')\n",
    "    return  treedist,resultsPost"
   ]
  },
  {
   "cell_type": "code",
   "execution_count": 23,
   "metadata": {},
   "outputs": [],
   "source": [
    "gt5_jets = load_jets(\"truth_5\")"
   ]
  },
  {
   "cell_type": "code",
   "execution_count": 24,
   "metadata": {},
   "outputs": [
    {
     "name": "stdout",
     "output_type": "stream",
     "text": [
      "Creating trellis for jet # 0\n"
     ]
    }
   ],
   "source": [
    "Nsamples = 20000\n",
    "NleavesMin =5\n",
    "NleavesMax=6\n",
    "\n",
    "resultsPost , treedist, treedistLH = posteriorDist(gt5_jets[2::],\n",
    "                  Nsamples = Nsamples,\n",
    "                  NleavesMin =NleavesMin,\n",
    "                  NleavesMax=NleavesMax, \n",
    "                  MaxNjets = 1)"
   ]
  },
  {
   "cell_type": "code",
   "execution_count": 25,
   "metadata": {},
   "outputs": [],
   "source": [
    "savePosterior(treedist,resultsPost, Nsamples = Nsamples, NleavesMin=NleavesMin)"
   ]
  },
  {
   "cell_type": "code",
   "execution_count": 26,
   "metadata": {},
   "outputs": [],
   "source": [
    "treedist, resultsPost =  loadPosterior(Nsamples = Nsamples,  NleavesMin=NleavesMin)"
   ]
  },
  {
   "cell_type": "markdown",
   "metadata": {},
   "source": [
    "### Plots"
   ]
  },
  {
   "cell_type": "code",
   "execution_count": 27,
   "metadata": {},
   "outputs": [],
   "source": [
    "def perBinLH(treedist, edges):\n",
    "    \"\"\" Add the likelihood of all trees that fall within a bin\"\"\"\n",
    "    treedistLH = np.exp(treedist)\n",
    "    binLH = []\n",
    "    for i in range(len(edges)-1):\n",
    "        temp=0\n",
    "        for m in range(len(treedist)):\n",
    "            if edges[i]<treedist[m]<edges[i+1]:\n",
    "                temp+=treedistLH[m]\n",
    "        binLH.append(temp)\n",
    "        \n",
    "    return np.asarray(binLH)"
   ]
  },
  {
   "cell_type": "code",
   "execution_count": null,
   "metadata": {},
   "outputs": [],
   "source": []
  },
  {
   "cell_type": "code",
   "execution_count": 28,
   "metadata": {},
   "outputs": [],
   "source": [
    "def posteriorHist(treedist, resultsPost, bins=10):\n",
    "    \n",
    "    fig2 = plt.figure()\n",
    "    gs = fig2.add_gridspec(2, 1, height_ratios=[8, 0.9]) \n",
    "    # gs = gridspec.GridSpec(2, 1, height_ratios=[1, 3]) \n",
    "\n",
    "    fig2, (axes) = plt.subplots(nrows=1, ncols=1)\n",
    "    fig2.set_size_inches(6, 6)\n",
    "    plt.tight_layout(pad=0.4, w_pad=5, h_pad=5.0)\n",
    "    markersize = 200\n",
    "     \n",
    "    axes0 = plt.subplot(gs[0])    \n",
    "    \n",
    "    pdf, edges = np.histogram(treedist, density=True, bins=bins)\n",
    "#     print(pdf)    \n",
    "    edgesCenter = [(edges[i+1]+edges[i])/2 for i in range(len(edges)-1)]\n",
    "\n",
    "    err = np.sqrt(pdf/len(treedist)/(bins[-1]-bins[-2]))\n",
    "\n",
    "    axes0.errorbar(edgesCenter, pdf, marker=\"o\", yerr=err, color = \"black\",linestyle =\"\",  drawstyle = 'steps-mid', label=\"Sampled\")\n",
    "\n",
    "    \n",
    "    \n",
    "    LHset = np.asarray(list(set(treedist)))\n",
    "    newData = perBinLH(LHset, edges)/np.exp(resultsPost[\"Z\"])\n",
    "\n",
    "    \n",
    "    axes0.bar(edgesCenter,newData/ (bins[-1]-bins[-2]),width = (bins[-1]-bins[-2]), color=\"green\", alpha=0.8, label=\"Expected\")\n",
    "    \n",
    "    axes0.axvline(resultsPost[\"gt_llh\"][0], color='red', linestyle='dashed', linewidth=3, label = \"Ground Truth\")\n",
    "    \n",
    "    axes0.grid(which='both', axis='both', linestyle='--')\n",
    "    axes0.tick_params(labelsize=25) \n",
    "    axes0.legend(loc='upper left', fontsize=25)\n",
    "    axes0.set_xlabel(r\" $ \\ell $ = log p(x,H)\", fontsize=30)\n",
    "    axes0.set_ylabel(r\"p($\\ell \\,|$ x) \", fontsize=30)\n",
    "\n",
    "\n",
    "    saveFig=True    \n",
    "    if saveFig:\n",
    "        fig2.savefig(plotDir+\"posteriorSample\"+str(Nsamples)+\"_\"+str(NleavesMin)+\"_\"+str(NleavesMax)+\".pdf\", bbox_inches='tight')\n",
    "    \n",
    "#     plt.show()"
   ]
  },
  {
   "cell_type": "code",
   "execution_count": null,
   "metadata": {},
   "outputs": [],
   "source": []
  },
  {
   "cell_type": "code",
   "execution_count": 29,
   "metadata": {},
   "outputs": [
    {
     "data": {
      "text/plain": [
       "<Figure size 576x576 with 0 Axes>"
      ]
     },
     "metadata": {},
     "output_type": "display_data"
    },
    {
     "data": {
      "image/png": "[encoded data removed]",
      "text/plain": [
       "<Figure size 432x432 with 1 Axes>"
      ]
     },
     "metadata": {
      "needs_background": "light"
     },
     "output_type": "display_data"
    }
   ],
   "source": [
    "posteriorHist(treedist,  resultsPost, bins = np.linspace(-38,-26,num =100))"
   ]
  },
  {
   "cell_type": "code",
   "execution_count": null,
   "metadata": {},
   "outputs": [],
   "source": []
  },
  {
   "cell_type": "code",
   "execution_count": null,
   "metadata": {},
   "outputs": [],
   "source": []
  },
  {
   "cell_type": "markdown",
   "metadata": {},
   "source": [
    "## Tree multiplicity vs Number of leaves"
   ]
  },
  {
   "cell_type": "code",
   "execution_count": 30,
   "metadata": {},
   "outputs": [],
   "source": [
    "def Ntrees(Nleaves):\n",
    "    Tot=1\n",
    "    for k in range(2*Nleaves-3,1,-2):\n",
    "        Tot*=k\n",
    "    return Tot"
   ]
  },
  {
   "cell_type": "code",
   "execution_count": 31,
   "metadata": {},
   "outputs": [
    {
     "name": "stdout",
     "output_type": "stream",
     "text": [
      "3 elements |  3 hierarchies\n",
      "4 elements |  15 hierarchies\n",
      "5 elements |  105 hierarchies\n",
      "6 elements |  945 hierarchies\n",
      "7 elements |  10395 hierarchies\n",
      "8 elements |  135135 hierarchies\n",
      "9 elements |  2027025 hierarchies\n",
      "10 elements |  34459425 hierarchies\n",
      "11 elements |  654729075 hierarchies\n",
      "12 elements |  13749310575 hierarchies\n",
      "13 elements |  316234143225 hierarchies\n",
      "14 elements |  7905853580625 hierarchies\n",
      "15 elements |  213458046676875 hierarchies\n",
      "16 elements |  6190283353629375 hierarchies\n",
      "17 elements |  191898783962510625 hierarchies\n",
      "18 elements |  6332659870762850625 hierarchies\n",
      "19 elements |  221643095476699771875 hierarchies\n"
     ]
    }
   ],
   "source": [
    "for m in range(3,20):\n",
    "    print(m, \"elements | \", Ntrees(m), \"hierarchies\")"
   ]
  },
  {
   "cell_type": "code",
   "execution_count": null,
   "metadata": {},
   "outputs": [],
   "source": []
  }
 ],
 "metadata": {
  "kernelspec": {
   "display_name": "Python 3",
   "language": "python",
   "name": "python3"
  },
  "language_info": {
   "codemirror_mode": {
    "name": "ipython",
    "version": 3
   },
   "file_extension": ".py",
   "mimetype": "text/x-python",
   "name": "python",
   "nbconvert_exporter": "python",
   "pygments_lexer": "ipython3",
   "version": "3.7.3"
  }
 },
 "nbformat": 4,
 "nbformat_minor": 2
}
